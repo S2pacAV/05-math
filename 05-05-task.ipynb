{
 "cells": [
  {
   "cell_type": "markdown",
   "id": "e5ddfce1-fa61-4a73-8585-1c477e71a670",
   "metadata": {},
   "source": [
    "# Неделя 2. Пятница"
   ]
  },
  {
   "cell_type": "code",
   "execution_count": 1,
   "metadata": {},
   "outputs": [],
   "source": [
    "import pandas as pd"
   ]
  },
  {
   "cell_type": "code",
   "execution_count": 5,
   "metadata": {},
   "outputs": [
    {
     "data": {
      "text/html": [
       "<div>\n",
       "<style scoped>\n",
       "    .dataframe tbody tr th:only-of-type {\n",
       "        vertical-align: middle;\n",
       "    }\n",
       "\n",
       "    .dataframe tbody tr th {\n",
       "        vertical-align: top;\n",
       "    }\n",
       "\n",
       "    .dataframe thead th {\n",
       "        text-align: right;\n",
       "    }\n",
       "</style>\n",
       "<table border=\"1\" class=\"dataframe\">\n",
       "  <thead>\n",
       "    <tr style=\"text-align: right;\">\n",
       "      <th></th>\n",
       "      <th>CCAvg</th>\n",
       "      <th>Income</th>\n",
       "      <th>Personal.Loan</th>\n",
       "    </tr>\n",
       "  </thead>\n",
       "  <tbody>\n",
       "    <tr>\n",
       "      <th>0</th>\n",
       "      <td>5.0</td>\n",
       "      <td>112</td>\n",
       "      <td>1</td>\n",
       "    </tr>\n",
       "    <tr>\n",
       "      <th>1</th>\n",
       "      <td>6.5</td>\n",
       "      <td>161</td>\n",
       "      <td>1</td>\n",
       "    </tr>\n",
       "    <tr>\n",
       "      <th>2</th>\n",
       "      <td>2.2</td>\n",
       "      <td>184</td>\n",
       "      <td>1</td>\n",
       "    </tr>\n",
       "    <tr>\n",
       "      <th>3</th>\n",
       "      <td>2.8</td>\n",
       "      <td>65</td>\n",
       "      <td>0</td>\n",
       "    </tr>\n",
       "    <tr>\n",
       "      <th>4</th>\n",
       "      <td>4.3</td>\n",
       "      <td>125</td>\n",
       "      <td>1</td>\n",
       "    </tr>\n",
       "    <tr>\n",
       "      <th>...</th>\n",
       "      <td>...</td>\n",
       "      <td>...</td>\n",
       "      <td>...</td>\n",
       "    </tr>\n",
       "    <tr>\n",
       "      <th>763</th>\n",
       "      <td>0.7</td>\n",
       "      <td>45</td>\n",
       "      <td>0</td>\n",
       "    </tr>\n",
       "    <tr>\n",
       "      <th>764</th>\n",
       "      <td>8.0</td>\n",
       "      <td>171</td>\n",
       "      <td>0</td>\n",
       "    </tr>\n",
       "    <tr>\n",
       "      <th>765</th>\n",
       "      <td>8.0</td>\n",
       "      <td>145</td>\n",
       "      <td>0</td>\n",
       "    </tr>\n",
       "    <tr>\n",
       "      <th>766</th>\n",
       "      <td>0.8</td>\n",
       "      <td>94</td>\n",
       "      <td>0</td>\n",
       "    </tr>\n",
       "    <tr>\n",
       "      <th>767</th>\n",
       "      <td>2.2</td>\n",
       "      <td>62</td>\n",
       "      <td>0</td>\n",
       "    </tr>\n",
       "  </tbody>\n",
       "</table>\n",
       "<p>768 rows × 3 columns</p>\n",
       "</div>"
      ],
      "text/plain": [
       "     CCAvg  Income  Personal.Loan\n",
       "0      5.0     112              1\n",
       "1      6.5     161              1\n",
       "2      2.2     184              1\n",
       "3      2.8      65              0\n",
       "4      4.3     125              1\n",
       "..     ...     ...            ...\n",
       "763    0.7      45              0\n",
       "764    8.0     171              0\n",
       "765    8.0     145              0\n",
       "766    0.8      94              0\n",
       "767    2.2      62              0\n",
       "\n",
       "[768 rows x 3 columns]"
      ]
     },
     "execution_count": 5,
     "metadata": {},
     "output_type": "execute_result"
    }
   ],
   "source": [
    "train = pd.read_csv('aux/credit_train.csv')\n",
    "test = pd.read_csv('aux/credit_test.csv')\n",
    "\n",
    "train"
   ]
  },
  {
   "cell_type": "markdown",
   "metadata": {},
   "source": [
    "* `CCAvg` - рейтинг по кредитной карте (фича)\n",
    "* `Income` - доход клиента (фича)\n",
    "* `Personal.Loan` - Был ли одобрен кредит (таргет)  \n",
    "\n",
    "Необходимо построить модель и проверить гипотезу о том, что эти два признака влияют на решение банка о выдаче/не выдаче кредита клиенту"
   ]
  },
  {
   "cell_type": "markdown",
   "id": "319e6f22-d608-4be5-88c5-c83be82687ff",
   "metadata": {},
   "source": [
    "### Логистическая регрессия"
   ]
  },
  {
   "attachments": {},
   "cell_type": "markdown",
   "id": "cf574aeb-83d3-44ec-b31f-03bae537147a",
   "metadata": {},
   "source": [
    "__BCELoss(_BinaryCrossEntropy_ Loss a.k.a logloss)__\n",
    "  \n",
    "$L = \\dfrac{1}{N} \\sum_{i=1}^{N}\\left[y_{i_{act}} \\cdot ln(y_{i_{pred}}) + (1-y_{i_{act}}) \\cdot ln(1-y_{i_{pred}})\\right] = $\n",
    "$ = \\dfrac{1}{N} \\sum_{i=1}^{N}\\left(y_{i_{act}} \\cdot ln(\\sigma(\\omega_0 + x_{i1} \\cdot \\omega_1 + x_{i2} \\cdot \\omega_2 + ... + x_{in} \\cdot \\omega_n))) + (1-y_{i_{act}}) \\cdot ln(1-(\\sigma(\\omega_0 + x_{i1} \\cdot \\omega_1 + x_{i2} \\cdot \\omega_2 + ... + x_{in} \\cdot \\omega_n))\\right]$  "
   ]
  },
  {
   "cell_type": "markdown",
   "id": "33efdc6e-8011-402c-843c-da2940de2c0e",
   "metadata": {},
   "source": [
    "*  Возьмем функцию потерь на одном объекте"
   ]
  },
  {
   "cell_type": "markdown",
   "id": "976e3b1d-585d-4426-bb36-7293f5d34bac",
   "metadata": {},
   "source": [
    "$L = y_{act} \\cdot ln(y_{pred}) + (1-y_{act}) \\cdot ln(1-y_{pred})$\n",
    "\n",
    "$y_{act} - $ реальное значение, которое принимает наша величина\n",
    "\n",
    "$y_{pred} - $ значение(_в виде вероятности!_), которое будет предсказывать наша модель\n",
    "\n",
    "Наше желание, чтобы модель, давала вероятность близкую к 1 в случае, если реальное значение 1 и вероятность близкую к нулю, в случае, если реальное значение равно нулю\n",
    "\n",
    "* Как это сделать?"
   ]
  },
  {
   "attachments": {},
   "cell_type": "markdown",
   "id": "e9157d07-6652-427b-ba7a-dff78cdb9a0c",
   "metadata": {},
   "source": [
    "мы знаем, что в случае Логистической регрессии, наше предсказание:  \n",
    "\n",
    "$y_{pred} = \\sigma(x_1 * w_1 + x_2 * w_2 + x_3 * w_3 ... + x_n * w_n + w_0)$\n",
    "\n",
    "\n",
    "$w_0, w_1, w_2, ..., w_n$ - Параметры, которые мы могли бы настроить!  \n",
    "\n",
    "А значит задача сводится к тому, чтобы минимизировать функцию $L$ правильно подобрав $w_1, w_2, ..., w_n$. Для этого нам нужен градиент!"
   ]
  },
  {
   "attachments": {},
   "cell_type": "markdown",
   "id": "c85f4ef9-45c1-4251-a3e5-6df6c455fdf8",
   "metadata": {},
   "source": [
    "$L(\\vec{w})$ - сложная функция, которая состоит из:  \n",
    "* логарифмирования\n",
    "* взятия сигмоиды \n",
    "* домножения наших $\\omega$ на константу - входные данные $x_1, x_2, ..., x_n$. Да да, именно они являются константами\n",
    "\n",
    "(_Смотреть выше расписанную формулу_)"
   ]
  },
  {
   "cell_type": "markdown",
   "id": "c0e7a7fc-6dd7-4514-8344-8cac1f1f7a75",
   "metadata": {},
   "source": [
    "1. Посчитать для $L = y_{act} \\cdot ln(y_{pred}) + (1-y_{act}) \\cdot ln(1-y_{pred})$ сложную частную производную по $w_1$.\n",
    "\n",
    "Как будет отличаться частная производная для $w_2, w_3, ..., w_n$?"
   ]
  },
  {
   "cell_type": "markdown",
   "id": "eb2d2b2f-39d4-4c2c-b2f1-e77ea4178f0a",
   "metadata": {},
   "source": [
    "2. Посчитать частную производную для $w_0$. (Свободного члена)"
   ]
  },
  {
   "attachments": {},
   "cell_type": "markdown",
   "id": "fb8dfa12-4074-4b4e-a322-60e294adbdcb",
   "metadata": {},
   "source": [
    "Математически градиент готов, останется обернуть его в алгоритм градиентного спуска и на реальных данных, где у нас ни один объект, а много сразу.\n",
    "Единственной разницей того, что объектов много сразу, мы будем минимизировать функцию потерь в среднем на всех элементах.\n",
    "\n",
    "то есть обновление происходит следующим образом:\n",
    "    \n",
    "$\\vec{w_{new}} = \\vec{w_{old}} - lr * grad L(\\vec{w_{old}})$\n",
    "\n",
    "1. Высчитывается градиент на каждом из ваших объектов(везде получаются разные $\\omega_{old}$).\n",
    "2. Берется средний $\\vec{\\omega_{old}}$ - по нему вычисляется новый $\\vec{w_{new}}$\n",
    "\n",
    "Итого:\n",
    "\n",
    "$\\vec{w_{new}} = \\vec{w_{old}} - lr * mean(grad L(\\vec{w_{old}}))$"
   ]
  },
  {
   "cell_type": "markdown",
   "id": "efd005d6-2fc9-4b74-a662-e9088fefcc1f",
   "metadata": {},
   "source": [
    "3. Создать класс LogReg. При инициализации дать возможность указать learning_rate, кол-во входных фичей(n). Записать эту информацию в атрибуты класса"
   ]
  },
  {
   "cell_type": "code",
   "execution_count": 10,
   "id": "9d23c114-3ce5-4c63-bc51-73500b0595c7",
   "metadata": {},
   "outputs": [],
   "source": [
    "# class LogReg:\n",
    "#     def __init__(self, learning_rate, n_inputs):\n",
    "#         self.learning_rate = ...\n",
    "#         self.n_inputs = ..."
   ]
  },
  {
   "cell_type": "markdown",
   "id": "6c55b926-4211-42e4-87a5-4e495f1d7c21",
   "metadata": {},
   "source": [
    "4. Создать случайную инициализцию необходимых $\\omega$ (Их будет n+1). Инициализируйте их равномерным распределением w1, w2, ..., wn = положите в атрибут - coef_, w0(свободный член) положите в атрибут intercept_"
   ]
  },
  {
   "cell_type": "code",
   "execution_count": null,
   "id": "e36a1c68-a00d-4e79-b014-29f219e74d23",
   "metadata": {},
   "outputs": [],
   "source": [
    "# class LogReg:\n",
    "#     def __init__(self, learning_rate, n_inputs):\n",
    "#         self.learning_rate = ...\n",
    "#         self.n_inputs = ...\n",
    "#         self.coef_ = ...\n",
    "#         self.intercept_ = ..."
   ]
  },
  {
   "cell_type": "markdown",
   "id": "c735b118-30f9-494f-9715-9a7cbe6b3a0a",
   "metadata": {},
   "source": [
    "5. Опишите метод fit, который будет принимать на вход X, y (X - данные x1, x2, ..., xn, y - это $y_{act})$ и высчитывать с помощью градиентного спуска самые оптимальные параметры w0, w1, w2, ..., wn. Которые будут хранится в атрибутах coef_ и intercept_"
   ]
  },
  {
   "cell_type": "code",
   "execution_count": null,
   "id": "e33a9c22-8fac-40ef-9a30-2ff338e8d755",
   "metadata": {},
   "outputs": [],
   "source": [
    "# class LogReg:\n",
    "#     def __init__(self, learning_rate, n_inputs):\n",
    "#         self.learning_rate = ...\n",
    "#         self.n_inputs = ...\n",
    "#         self.coef_ = ...\n",
    "#         self.intercept_ = ...\n",
    "        \n",
    "#     def fit(self, X, y):\n",
    "#         pass"
   ]
  },
  {
   "cell_type": "markdown",
   "id": "f0ba88fc-2c44-4706-8837-112f70a883e1",
   "metadata": {},
   "source": [
    "6. Опишите метод predict, который будет предсказывать для новых точек в дальнейшем их y_pred"
   ]
  },
  {
   "cell_type": "code",
   "execution_count": null,
   "id": "36e47a75-44a3-41d7-ad28-3f399125af13",
   "metadata": {},
   "outputs": [],
   "source": [
    "# class LogReg:\n",
    "#     def __init__(self, learning_rate, n_inputs):\n",
    "#         self.learning_rate = ...\n",
    "#         self.n_inputs = ...\n",
    "#         self.coef_ = ...\n",
    "#         self.intercept_ = ...\n",
    "        \n",
    "#     def fit(self, X, y):\n",
    "#         pass\n",
    "\n",
    "#     def predict(self, X):\n",
    "#         pass"
   ]
  },
  {
   "attachments": {},
   "cell_type": "markdown",
   "id": "4369ad03",
   "metadata": {},
   "source": [
    "7. Сравните результат с логистической регрессией в sklearn. "
   ]
  },
  {
   "cell_type": "code",
   "execution_count": 1,
   "id": "89ea99ef",
   "metadata": {},
   "outputs": [],
   "source": [
    "# from sklearn.linear_model import LogisticRegression\n",
    "\n",
    "# lr = LogisticRegression()\n",
    "# lr.fit(X, y)\n",
    "# lr.coef_, lr.intercept_"
   ]
  },
  {
   "cell_type": "markdown",
   "metadata": {},
   "source": [
    "8. Проинтерпретируйте получившиеся веса"
   ]
  },
  {
   "cell_type": "markdown",
   "metadata": {},
   "source": [
    "9. Постройте 2D scatter plot, на котором отобразите:  \n",
    "\n",
    "* по оси X - `CCAge`\n",
    "* по оси Y - `Income`\n",
    "* Цветом - `Personal.loan` (1 -  красным, 0 - синим)\n",
    "* разделяющую прямую от логистической регрессии "
   ]
  },
  {
   "attachments": {},
   "cell_type": "markdown",
   "id": "d1ba92a0",
   "metadata": {},
   "source": [
    "9. Напишите сервис на __streamlit__. Который даст пользователю следующий интерфейс:  \n",
    "\n",
    "* Он может загрузить файл .csv\n",
    "* После загрузки получает результат регрессии. (Словарик вида: имя столбца - вес столбца)\n",
    "* А так же возможность построить scatter по любым двум фичам (цветом выделить таргет)"
   ]
  },
  {
   "cell_type": "markdown",
   "id": "a93e639f",
   "metadata": {},
   "source": []
  }
 ],
 "metadata": {
  "kernelspec": {
   "display_name": "base",
   "language": "python",
   "name": "python3"
  },
  "language_info": {
   "codemirror_mode": {
    "name": "ipython",
    "version": 3
   },
   "file_extension": ".py",
   "mimetype": "text/x-python",
   "name": "python",
   "nbconvert_exporter": "python",
   "pygments_lexer": "ipython3",
   "version": "3.10.13"
  },
  "vscode": {
   "interpreter": {
    "hash": "34cd1f02a1c82374b0d515644597fa68fe031e4077c6ea0c9ceb203f5836fddb"
   }
  }
 },
 "nbformat": 4,
 "nbformat_minor": 5
}
