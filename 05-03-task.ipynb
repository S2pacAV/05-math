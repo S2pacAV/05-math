{
 "cells": [
  {
   "cell_type": "markdown",
   "id": "2173db08-dd69-4e69-b81a-221a5bbbfc2d",
   "metadata": {
    "tags": []
   },
   "source": [
    "# Неделя 2. Среда \n",
    "\n",
    "## Математический анализ"
   ]
  },
  {
   "cell_type": "code",
   "execution_count": 30,
   "id": "96f9df0c-a134-4218-835b-20242049104e",
   "metadata": {},
   "outputs": [],
   "source": [
    "# Имортируй библиотеки\n",
    "import matplotlib.pyplot as plt\n",
    "plt.rcParams['figure.dpi'] = 100\n",
    "import numpy as np\n",
    "import seaborn as sns"
   ]
  },
  {
   "cell_type": "markdown",
   "id": "441254bf-ad80-4605-ba3f-4e5d8039e4e0",
   "metadata": {
    "tags": []
   },
   "source": [
    "### Анализ"
   ]
  },
  {
   "cell_type": "markdown",
   "id": "78b315a1-3e8d-496a-913e-c4bec7da59d0",
   "metadata": {},
   "source": [
    "❓Что значит, что производная в точке равна нулю? "
   ]
  },
  {
   "cell_type": "markdown",
   "id": "2c7f8ae9-0c53-4c37-bf55-c7aa5da68dc0",
   "metadata": {},
   "source": [
    "Найдите производную функций ниже"
   ]
  },
  {
   "cell_type": "markdown",
   "id": "f98a7632-9bca-4029-9bb3-89e102c5e73c",
   "metadata": {},
   "source": [
    "1. $y = \\dfrac{3x^7}{7}$"
   ]
  },
  {
   "cell_type": "markdown",
   "id": "43624981-4f74-44d5-8b0b-520599dc6c24",
   "metadata": {},
   "source": [
    "$y' = {3x^6}$"
   ]
  },
  {
   "cell_type": "markdown",
   "id": "f83c2250-6b29-40e3-be2d-a3e3d59378c4",
   "metadata": {},
   "source": [
    "2. $y = -7$"
   ]
  },
  {
   "cell_type": "markdown",
   "id": "e46d0bc9-7f40-40c1-949a-a536d25ceec5",
   "metadata": {},
   "source": [
    "$y' = 0$"
   ]
  },
  {
   "cell_type": "markdown",
   "id": "24b6b95b-2655-4289-9307-dc9e8293ce60",
   "metadata": {},
   "source": [
    "3. $y = \\dfrac{9}{x}$"
   ]
  },
  {
   "cell_type": "markdown",
   "id": "0d232268-070e-4d41-a16b-5f9952b82db6",
   "metadata": {},
   "source": [
    "$y' = -\\dfrac{9}{x^2}$"
   ]
  },
  {
   "cell_type": "markdown",
   "id": "9efee60b-1d35-4c6f-ae55-3a4af61ccde7",
   "metadata": {},
   "source": [
    "4. $y = 11 - 6x$"
   ]
  },
  {
   "cell_type": "markdown",
   "id": "e548290a-4ebf-4b7d-a1a6-f95dbd722165",
   "metadata": {},
   "source": [
    "$y' = -6$"
   ]
  },
  {
   "cell_type": "markdown",
   "id": "3f5e1af2-6306-4005-885c-6bd26c8f8449",
   "metadata": {},
   "source": [
    "5. $y = 8\\sqrt{x} + 7\\sin{x}$"
   ]
  },
  {
   "cell_type": "markdown",
   "id": "b0bfe2a0-1e58-4e5c-8c8d-aee0227f4f09",
   "metadata": {},
   "source": [
    "$y' = \\frac{4}{\\sqrt{x}} + 7\\cos{x}$"
   ]
  },
  {
   "cell_type": "markdown",
   "id": "eeb10783-f0a4-4afb-9bcd-162cba102b0d",
   "metadata": {},
   "source": [
    "6. $y = \\dfrac{\\sin{x}}{5x}$"
   ]
  },
  {
   "cell_type": "markdown",
   "id": "aa902b86-4066-4b3d-8d2c-307c1379948f",
   "metadata": {},
   "source": [
    "$y' = \\frac{x\\cos{x} - \\sin{x}}{5x^2}$"
   ]
  },
  {
   "cell_type": "markdown",
   "id": "48f32a55-b110-49c9-9ab5-2b46aceeae3f",
   "metadata": {},
   "source": [
    "7. $y = \\dfrac{\\cot{x} + 2}{3x}$"
   ]
  },
  {
   "cell_type": "markdown",
   "id": "00f15010-f277-4d4c-abf5-e1fcfbf64502",
   "metadata": {},
   "source": [
    "$y' = \\frac{-x\\csc^2{x} - \\cot{x} - 2}{3x^2}$"
   ]
  },
  {
   "cell_type": "markdown",
   "id": "1ed62912-9712-45b7-b176-98c077c38f30",
   "metadata": {},
   "source": [
    "8. $y = (3-7x)^9$"
   ]
  },
  {
   "cell_type": "markdown",
   "id": "adb7ee9b-fb66-4a49-8e06-c184187d2f67",
   "metadata": {},
   "source": [
    "$y' = -63(3 - 7x)^{8}$"
   ]
  },
  {
   "cell_type": "markdown",
   "id": "996c07d7-8df2-4869-beaa-d2716df396d4",
   "metadata": {},
   "source": [
    "9. Найдите производную в точке $t = 3$:\n",
    "\n",
    "$y(t) = t^6 - 4t^3$"
   ]
  },
  {
   "cell_type": "markdown",
   "id": "b28d51d6-8674-4c7d-bf97-771613ae0cc1",
   "metadata": {},
   "source": [
    "$1350$"
   ]
  },
  {
   "cell_type": "markdown",
   "id": "c505ff62-e3f2-47e9-8fff-363951225686",
   "metadata": {},
   "source": [
    "<img src=\"https://icons.iconarchive.com/icons/icons8/windows-8/256/Programming-Github-icon.png\" width=32 /> Пора сохранить изменения для __github__. \n",
    "\n",
    "1. Перейди в командной строке в папку, в которой расположен этот нотбук. \n",
    "2. Выполни команду `git add .`\n",
    "3. Выполни команду `git commit -m \"calculus tasks in progress\"`\n",
    "4. Выполни команду `git push`"
   ]
  },
  {
   "cell_type": "markdown",
   "id": "f43c7228-affc-4d7d-844f-a54cbb601bff",
   "metadata": {
    "tags": []
   },
   "source": [
    "### Градиентный спуск"
   ]
  },
  {
   "cell_type": "markdown",
   "id": "ffb41147-8055-45e0-a322-481d0da7047b",
   "metadata": {
    "tags": []
   },
   "source": [
    "#### 1. Градиентный спуск функции одного переменного"
   ]
  },
  {
   "cell_type": "markdown",
   "id": "a4eb35ff-1235-461b-a86f-bade29046209",
   "metadata": {},
   "source": [
    "1. Задай функцию `loss`: она будет возвращать значение функции в точке. Для начала можно использовать простую функцию, например: \n",
    "$$L(\\omega) = \\omega^2 + 3$$"
   ]
  },
  {
   "cell_type": "code",
   "execution_count": 31,
   "id": "bcbb6360-3c83-47d2-a6c5-611e9d912973",
   "metadata": {},
   "outputs": [],
   "source": [
    "def loss(w):\n",
    "    loss = w**2 + 3\n",
    "\n",
    "    return loss"
   ]
  },
  {
   "cell_type": "markdown",
   "id": "8753a12a-826c-406a-9ca1-909c7f72cd7b",
   "metadata": {},
   "source": [
    "2. Задай функцию `derivative` - она будет возвращать значение производной функции `loss` в точке. "
   ]
  },
  {
   "cell_type": "code",
   "execution_count": 32,
   "id": "23554649-1790-4d8b-960e-b8aadc219256",
   "metadata": {},
   "outputs": [],
   "source": [
    "def derivative(w):\n",
    "    deriv = 2*w\n",
    "\n",
    "    return deriv"
   ]
  },
  {
   "cell_type": "markdown",
   "id": "07b82bb8-912b-448e-8def-f70f531f4fee",
   "metadata": {},
   "source": [
    "3. Задай функцию `step` - она будет возвращать новое значение весов по формуле:\n",
    "$$w_{i+1} = w_i - \\lambda \\cdot \\frac{\\partial f(w)}{\\partial w_i}$$\n",
    "\n",
    "Входные аргументы: `w` - текущее значение параметра, `lambda` – скорость спуска. "
   ]
  },
  {
   "cell_type": "code",
   "execution_count": 33,
   "id": "24c05da5-88ff-4fea-ac0d-0d366396cb7e",
   "metadata": {},
   "outputs": [],
   "source": [
    "def step(w, _lambda):\n",
    "    '''\n",
    "    input:\n",
    "        _lambda - learning rate\n",
    "\n",
    "    returns:\n",
    "        coord - w_coord\n",
    "        loss_value  - y_coord\n",
    "    '''\n",
    "\n",
    "    coord = w - _lambda * derivative(w)\n",
    "    loss_value = loss(coord)\n",
    "\n",
    "    return coord, loss_value"
   ]
  },
  {
   "cell_type": "markdown",
   "id": "1574a96b-8b8d-4745-8c5f-b5e0e74b995d",
   "metadata": {},
   "source": [
    "4. Задай функцию `get_minima`, которая будет возвращать список, содержащий все значения параметра `w`, и список `loss_values`, который будет содержать значения функции `loss` для соответствующего параметра `w`. На вход функции поступает `w_0` – начальное значение параметра, `eps` – критерий останова. `lambda` - скорость спуска, которая будет передаваться в функцию `step`"
   ]
  },
  {
   "cell_type": "code",
   "execution_count": 34,
   "id": "356718cb-2b22-4634-a8a2-530151575eb6",
   "metadata": {},
   "outputs": [],
   "source": [
    "def get_minima(w_0, eps, _lambda):\n",
    "    \"\"\"Находит минимум функции потерь с помощью градиентного спуска\n",
    "\n",
    "    Аргументы:\n",
    "        w_0: начальное значение параметра\n",
    "        eps: точность (критерий останова)\n",
    "        _lambda: коэффициент скорости обучения\n",
    "\n",
    "    Возвращает:\n",
    "        w: финальное значение параметра\n",
    "        w_history: список всех промежуточных значений параметра\n",
    "        loss_values: список значений функции потерь на каждом шаге\n",
    "    \"\"\"\n",
    "    w = w_0\n",
    "    w_history = [w]\n",
    "    loss_values = [loss(w)]\n",
    "\n",
    "    while True:\n",
    "        w_new, loss_value = step(w, _lambda)\n",
    "        w_history.append(w_new)\n",
    "        loss_values.append(loss_value)\n",
    "\n",
    "        # Проверяем критерий останова: если изменение значения функции потерь меньше eps\n",
    "        if abs(loss_value - loss_values[-2]) < eps:\n",
    "            break\n",
    "\n",
    "        w = w_new\n",
    "\n",
    "    return w, w_history, loss_values"
   ]
  },
  {
   "cell_type": "markdown",
   "id": "8dd5e2fe-775a-46dd-a994-25937b50fd22",
   "metadata": {},
   "source": [
    "Нарисуй график функции `loss`. По координатам, возвращенным функцией `get_minima` нарисуй график движения градиентного спуска. "
   ]
  },
  {
   "cell_type": "code",
   "execution_count": 35,
   "id": "3195fd33-0c66-47cb-939a-06ef44c8c6fe",
   "metadata": {},
   "outputs": [
    {
     "name": "stdout",
     "output_type": "stream",
     "text": [
      "Найденный минимум: w = 0.01416710, L(w) = 3.00020071\n",
      "Количество итераций: 25\n"
     ]
    },
    {
     "data": {
      "image/png": "[encoded data removed]",
      "text/plain": [
       "<Figure size 1000x600 with 1 Axes>"
      ]
     },
     "metadata": {},
     "output_type": "display_data"
    }
   ],
   "source": [
    "# Визуализация функции loss и процесса градиентного спуска\n",
    "w_0 = 3.0  # Начальное значение параметра\n",
    "eps = 0.0001  # Критерий останова\n",
    "_lambda = 0.1  # Коэффициент скорости обучения\n",
    "\n",
    "# Запускаем градиентный спуск\n",
    "final_w, w_history, loss_values = get_minima(w_0, eps, _lambda)\n",
    "\n",
    "# Создаем точки для построения графика функции loss\n",
    "w_range = np.linspace(-5, 5, 100)\n",
    "loss_range = [loss(w) for w in w_range]\n",
    "\n",
    "# Настройка размера графика\n",
    "plt.figure(figsize=(10, 6))\n",
    "\n",
    "# Построение графика функции loss\n",
    "plt.plot(w_range, loss_range, 'b-', linewidth=2, label='L(w) = w^2 + 3')\n",
    "\n",
    "# Отмечаем точки, которые прошел градиентный спуск\n",
    "plt.plot(w_history, loss_values, 'ro-', markersize=8, linewidth=1, label='Градиентный спуск')\n",
    "\n",
    "# Выделяем начальную точку\n",
    "plt.plot(w_history[0], loss_values[0], 'go', markersize=10, label='Начальная точка')\n",
    "\n",
    "# Выделяем конечную точку\n",
    "plt.plot(w_history[-1], loss_values[-1], 'mo', markersize=10, label='Конечная точка')\n",
    "\n",
    "# Настраиваем график\n",
    "plt.title(f'Градиентный спуск (lambda={_lambda}, начальное w={w_0})')\n",
    "plt.xlabel('w')\n",
    "plt.ylabel('L(w)')\n",
    "plt.grid(True)\n",
    "plt.legend()\n",
    "\n",
    "# Выводим результаты\n",
    "print(f\"Найденный минимум: w = {final_w:.8f}, L(w) = {loss(final_w):.8f}\")\n",
    "print(f\"Количество итераций: {len(w_history) - 1}\")\n",
    "\n",
    "plt.show()"
   ]
  },
  {
   "cell_type": "markdown",
   "id": "38c4e29b-329f-49e6-9599-ba14ddef6902",
   "metadata": {},
   "source": [
    "Нарисуй несколько графиков, соответствующих разным коэффициентам $\\lambda$. "
   ]
  },
  {
   "cell_type": "code",
   "execution_count": 36,
   "id": "61ddfbb2-9869-4d3f-97e3-e2c96a03b2dd",
   "metadata": {},
   "outputs": [
    {
     "name": "stdout",
     "output_type": "stream",
     "text": [
      "Найденный минимум: w = 0.00491520, L(w) = 3.00002416\n",
      "Количество итераций: 8\n"
     ]
    },
    {
     "data": {
      "image/png": "[encoded data removed]",
      "text/plain": [
       "<Figure size 1000x600 with 1 Axes>"
      ]
     },
     "metadata": {},
     "output_type": "display_data"
    }
   ],
   "source": [
    "# Визуализация функции loss и процесса градиентного спуска\n",
    "w_0 = 3.0  # Начальное значение параметра\n",
    "eps = 0.0001  # Критерий останова\n",
    "_lambda = 0.3  # Коэффициент скорости обучения\n",
    "\n",
    "# Запускаем градиентный спуск\n",
    "final_w, w_history, loss_values = get_minima(w_0, eps, _lambda)\n",
    "\n",
    "# Создаем точки для построения графика функции loss\n",
    "w_range = np.linspace(-5, 5, 100)\n",
    "loss_range = [loss(w) for w in w_range]\n",
    "\n",
    "# Настройка размера графика\n",
    "plt.figure(figsize=(10, 6))\n",
    "\n",
    "# Построение графика функции loss\n",
    "plt.plot(w_range, loss_range, 'b-', linewidth=2, label='L(w) = w^2 + 3')\n",
    "\n",
    "# Отмечаем точки, которые прошел градиентный спуск\n",
    "plt.plot(w_history, loss_values, 'ro-', markersize=8, linewidth=1, label='Градиентный спуск')\n",
    "\n",
    "# Выделяем начальную точку\n",
    "plt.plot(w_history[0], loss_values[0], 'go', markersize=10, label='Начальная точка')\n",
    "\n",
    "# Выделяем конечную точку\n",
    "plt.plot(w_history[-1], loss_values[-1], 'mo', markersize=10, label='Конечная точка')\n",
    "\n",
    "# Настраиваем график\n",
    "plt.title(f'Градиентный спуск (lambda={_lambda}, начальное w={w_0})')\n",
    "plt.xlabel('w')\n",
    "plt.ylabel('L(w)')\n",
    "plt.grid(True)\n",
    "plt.legend()\n",
    "\n",
    "# Выводим результаты\n",
    "print(f\"Найденный минимум: w = {final_w:.8f}, L(w) = {loss(final_w):.8f}\")\n",
    "print(f\"Количество итераций: {len(w_history) - 1}\")\n",
    "\n",
    "plt.show()"
   ]
  },
  {
   "cell_type": "markdown",
   "id": "2246df41-4da6-4217-adc0-2437f36887dc",
   "metadata": {},
   "source": [
    "❓ Как выбрать оптимальную скорость обучения?"
   ]
  },
  {
   "cell_type": "markdown",
   "id": "06459c09-f216-4fb5-970d-e6f27f1082af",
   "metadata": {},
   "source": [
    "> _ответ тут_"
   ]
  },
  {
   "cell_type": "markdown",
   "id": "576ec78b-e052-4e4d-b16a-3c8ef22adb58",
   "metadata": {},
   "source": [
    "❓Будет ли зависеть скорость работы всей процедуры от начального выбора значения искомого параметра?"
   ]
  },
  {
   "cell_type": "markdown",
   "id": "a5a97721-4571-46bd-ba27-ace6c5e0b83b",
   "metadata": {},
   "source": [
    "> ответ тут"
   ]
  },
  {
   "cell_type": "markdown",
   "id": "2bc32906-fb0c-41ba-82ca-ec05d5341e0d",
   "metadata": {},
   "source": [
    "Поэкспериментируй с результатом, задай функцию: \n",
    "$$L(\\omega) = \\omega^2 - \\omega$$"
   ]
  },
  {
   "cell_type": "code",
   "execution_count": 37,
   "id": "2c544acf-bc08-4007-99cb-56e121b52be3",
   "metadata": {},
   "outputs": [],
   "source": [
    "def loss(w):\n",
    "    loss = w ** 2 - w\n",
    "    return loss\n",
    "\n",
    "def derivative(w):\n",
    "    deriv = 2 * w -1\n",
    "    return deriv\n"
   ]
  },
  {
   "cell_type": "markdown",
   "id": "abe9a567-4635-4e60-a3f6-3ec9f4bee7ad",
   "metadata": {},
   "source": [
    "#### 2. Градиентный спуск для функции двух переменных"
   ]
  },
  {
   "cell_type": "markdown",
   "id": "a17ac4ae-38bf-458c-b7d6-1bd23f715188",
   "metadata": {},
   "source": [
    "1. Модифицируй функции из предыдущего задания и реализуй поиск минимума функции двух переменных. \n",
    "Функция для минимизации: \n",
    "$$\\mathcal{L} (\\omega_1, \\omega_2) = \\omega_1^2 + 2\\omega_2^2 - 3\\omega_1 - 4\\omega_2$$\n",
    "\n",
    "В конце визуализируй результат аналогично предыдущему заданию.\n",
    "\n",
    "\n",
    "__P.S__: для данной функции, минимальное значение достигается в точке $(\\dfrac{3}{2}; 1)$. Это необходимо для самопроверки"
   ]
  },
  {
   "cell_type": "code",
   "execution_count": 38,
   "id": "ab8fe56b-204c-4d14-b37c-17d76329db41",
   "metadata": {},
   "outputs": [],
   "source": [
    "def loss2(w):\n",
    "    loss = w[0] ** 2 + 2 * w[1] ** 2 - 3 * w[0] - 4 * w[1]\n",
    "    return loss"
   ]
  },
  {
   "cell_type": "code",
   "execution_count": 39,
   "id": "14726a8d-c169-4f5b-890d-8dbfade62291",
   "metadata": {},
   "outputs": [],
   "source": [
    "def derivative2(w):\n",
    "    deriv = np.array([2 * w[0] - 3, 4 * w[1] - 4])\n",
    "    return deriv"
   ]
  },
  {
   "cell_type": "code",
   "execution_count": 40,
   "id": "71091e5e-2007-488b-9265-7d90ce666116",
   "metadata": {},
   "outputs": [],
   "source": [
    "def step(w, _lambda):\n",
    "    '''\n",
    "    input:\n",
    "        alpha - learning rate\n",
    "\n",
    "    returns:\n",
    "        coord - [w1_coords, w2_coords]\n",
    "        loss_value - y_coord\n",
    "    '''\n",
    "    coord = w - _lambda * derivative2(w)\n",
    "    loss_value = loss2(coord)\n",
    "    return coord, loss_value"
   ]
  },
  {
   "cell_type": "markdown",
   "id": "67fa1f64-117d-4702-bc81-e491ff10c776",
   "metadata": {},
   "source": [
    "2. С помощью градиентного _спуска_ можно найти и __максимум__ функции, для этого нужно внести небольшое изменение в формулу обновления весов. Попробуйте сделать это и визуализировать результат: \n",
    "$$L(w_1, w_2) = \\dfrac{1}{1+w_1^2} + \\dfrac{1}{1+w_2^2}$$  \n",
    "\n",
    "\n",
    "__P.S__: для данной функции, максимальное значение достигается в точке $(0; 0)$. Это необходимо для самопроверки"
   ]
  },
  {
   "cell_type": "code",
   "execution_count": 41,
   "id": "b352220e-1ad2-4c25-b67c-78837fe4a851",
   "metadata": {},
   "outputs": [
    {
     "data": {
      "image/png": "[encoded data removed]",
      "text/plain": [
       "<Figure size 640x480 with 1 Axes>"
      ]
     },
     "metadata": {},
     "output_type": "display_data"
    }
   ],
   "source": [
    "def loss_max(w):\n",
    "    return 1 / (1 + w[0] ** 2) + 1 / (1 + w[1] ** 2)\n",
    "\n",
    "def derivative_max(w):\n",
    "    return np.array([-2 * w[0] / (1 + w[0] ** 2) ** 2, -2 * w[1] / (1 + w[1] ** 2) ** 2])\n",
    "\n",
    "def step_max(w, _lambda):\n",
    "    coord = w + _lambda * derivative_max(w)  # Изменение знака для максимизации\n",
    "    loss_value = loss_max(coord)\n",
    "    return coord, loss_value\n",
    "\n",
    "# Инициализация переменных\n",
    "w = np.array([0.0, 0.0])  # Начальная точка\n",
    "learning_rate = 0.1\n",
    "n_iterations = 100\n",
    "loss_values = []\n",
    "\n",
    "# Градиентный спуск\n",
    "for i in range(n_iterations):\n",
    "    w, loss_value = step_max(w, learning_rate)\n",
    "    loss_values.append(loss_value)\n",
    "\n",
    "# Визуализация результата\n",
    "plt.plot(loss_values)\n",
    "plt.title('Loss over iterations')\n",
    "plt.xlabel('Iterations')\n",
    "plt.ylabel('Loss')\n",
    "plt.grid()\n",
    "plt.show()\n"
   ]
  },
  {
   "cell_type": "markdown",
   "id": "9a49b4e4-4ee4-4205-a1a2-2f60ec91214f",
   "metadata": {},
   "source": [
    "3. С помощью градиентного спуска найти минимум функции и визуализировать результат. Незабывайте, код у вас уже реализован в предыдущих заданиях, примените его.  \n",
    "$$L(w1, w2) = (5 \\cdot \\omega_1)^2 + \\omega_2^2$$"
   ]
  },
  {
   "cell_type": "code",
   "execution_count": 42,
   "id": "f440c095-8b23-450b-855a-1a1912278fde",
   "metadata": {},
   "outputs": [
    {
     "data": {
      "image/png": "[encoded data removed]",
      "text/plain": [
       "<Figure size 640x480 with 1 Axes>"
      ]
     },
     "metadata": {},
     "output_type": "display_data"
    }
   ],
   "source": [
    "def loss_min(w):\n",
    "    return (5 * w[0]) ** 2 + w[1] ** 2\n",
    "\n",
    "def derivative_min(w):\n",
    "    return np.array([10 * w[0], 2 * w[1]])\n",
    "\n",
    "def step_min(w, _lambda):\n",
    "    coord = w - _lambda * derivative_min(w)  # Изменение знака для минимизации\n",
    "    loss_value = loss_min(coord)\n",
    "    return coord, loss_value\n",
    "\n",
    "# Инициализация переменных\n",
    "w = np.array([0.0, 0.0])  # Начальная точка\n",
    "learning_rate = 0.1\n",
    "n_iterations = 100\n",
    "loss_values = []\n",
    "\n",
    "# Градиентный спуск\n",
    "for i in range(n_iterations):\n",
    "    w, loss_value = step_min(w, learning_rate)\n",
    "    loss_values.append(loss_value)\n",
    "\n",
    "# Визуализация результата\n",
    "plt.plot(loss_values)\n",
    "plt.title('Loss over iterations')\n",
    "plt.xlabel('Iterations')\n",
    "plt.ylabel('Loss')\n",
    "plt.grid()\n",
    "plt.show()\n"
   ]
  },
  {
   "cell_type": "markdown",
   "id": "02d9e607-2710-41d4-9d4b-3d222d93c507",
   "metadata": {},
   "source": [
    "<img src=\"https://icons.iconarchive.com/icons/icons8/windows-8/256/Programming-Github-icon.png\" width=32 /> Пора сохранить изменения для __github__. \n",
    "\n",
    "1. Перейди в командной строке в папку, в которой расположен этот нотбук. \n",
    "2. Выполни команду `git add .`\n",
    "3. Выполни команду `git commit -m \"calculus tasks stage 2\"`\n",
    "4. Выполни команду `git push`"
   ]
  },
  {
   "cell_type": "markdown",
   "id": "bb04962b-1b2e-4f0b-b428-dfb279d9e014",
   "metadata": {},
   "source": [
    "#### Адаптивная скорость обучения\n",
    "\n",
    "Модифицируй одну из предыдущих реализаций, добавив [адаптивный подбор скорости обучения](https://en.wikipedia.org/wiki/Learning_rate) (time-based, step-based, exponential)"
   ]
  },
  {
   "cell_type": "code",
   "execution_count": null,
   "id": "f35bb4ea-61cf-4b11-932b-6fa3bbe78ead",
   "metadata": {},
   "outputs": [],
   "source": []
  },
  {
   "cell_type": "markdown",
   "id": "516e25b5",
   "metadata": {},
   "source": [
    "#### Решение системы линейных уравнений с помощью градиентного спуска\n",
    "\n",
    "\n",
    "Реализуй класс `Solver` для вычисления решения системы линейных уравнений произвольного размера.  \n",
    "\n",
    "Логика работы класса должна быть следующей: \n",
    "\n",
    "```python\n",
    "\n",
    "solver = Solver(X, y)\n",
    "solver.fit(learning_rate=0.01, n_iter=10)\n",
    "print(solver.mse())\n",
    ">>> Mean squared error: 0.00313\n",
    "print(solver.coef_)\n",
    ">>> [.5, 1, -2]\n",
    "\n",
    "```\n",
    "\n",
    "`X` – матрица системы\n",
    "\n",
    "`y` – вектор ответов\n",
    "\n",
    "`learning_rate` – шаг градинтного спуска\n",
    "\n",
    "`n_iter` - число итераций. \n",
    "\n",
    "Метод `mse` вычисляет среднеквадратическую ошибку: `sum((y - X@w)**2) / len(w)`, где `w` - искомый вектор коэффициентов. \n",
    "\n",
    "Попробуй решить с помощью реализованного класса систему уравнений:\n",
    "$$\n",
    "\\begin{cases}\n",
    "2w_1 + 3w_2 - w_3 = 9 \\\\\n",
    "w_1 -2w_2 + w_3 = 3 \\\\\n",
    "w_1 + 2w_3 = 2\n",
    "\\end{cases}\n",
    "$$\n",
    "\n",
    "Решение уравнения выше – 4, 0, -1. Значения, которые ты получишь в процессе оптимизации могут незначительно отличаться. \n"
   ]
  },
  {
   "cell_type": "code",
   "execution_count": 43,
   "id": "48d9b972",
   "metadata": {},
   "outputs": [],
   "source": [
    "X = np.array([\n",
    "    [2, 3, -1],\n",
    "    [1, -2, 1],\n",
    "    [1, 0, 2]\n",
    "])\n",
    "\n",
    "y = np.array([9, 3, 2])"
   ]
  },
  {
   "cell_type": "code",
   "execution_count": 44,
   "id": "750de713",
   "metadata": {},
   "outputs": [],
   "source": [
    "# code"
   ]
  },
  {
   "cell_type": "code",
   "execution_count": 45,
   "id": "fc914537",
   "metadata": {},
   "outputs": [
    {
     "ename": "NameError",
     "evalue": "name 'Solver' is not defined",
     "output_type": "error",
     "traceback": [
      "\u001b[31m---------------------------------------------------------------------------\u001b[39m",
      "\u001b[31mNameError\u001b[39m                                 Traceback (most recent call last)",
      "\u001b[36mCell\u001b[39m\u001b[36m \u001b[39m\u001b[32mIn[45]\u001b[39m\u001b[32m, line 1\u001b[39m\n\u001b[32m----> \u001b[39m\u001b[32m1\u001b[39m solver = \u001b[43mSolver\u001b[49m(X, y)\n\u001b[32m      2\u001b[39m solver.fit(\u001b[32m0.1\u001b[39m, \u001b[32m100\u001b[39m)\n\u001b[32m      3\u001b[39m solver.mse()\n",
      "\u001b[31mNameError\u001b[39m: name 'Solver' is not defined"
     ]
    }
   ],
   "source": [
    "solver = Solver(X, y)\n",
    "solver.fit(0.1, 100)\n",
    "solver.mse()"
   ]
  },
  {
   "cell_type": "markdown",
   "id": "a6a9c32d-5b0b-485d-b5a0-69904ad792cb",
   "metadata": {},
   "source": [
    "#### Реализация класса оптимизатора\n",
    "\n",
    "Реализуй класс, который `Optimizer`, который будет решать задачу минимизации функции, сохранения истории процедуры, визуализации и возможностью выбирать один из типов управления скоростью обучения. Добавь возможность задания параметра для реализации остановки. "
   ]
  },
  {
   "cell_type": "code",
   "execution_count": 8,
   "id": "9a15cc27-2eef-4da8-86cd-021192781dd3",
   "metadata": {},
   "outputs": [],
   "source": [
    "class Optimizer():\n",
    "    pass"
   ]
  },
  {
   "cell_type": "markdown",
   "id": "e45ff4ae-03e5-451f-a9a1-8f87240e2c85",
   "metadata": {},
   "source": [
    "<img src=\"https://icons.iconarchive.com/icons/icons8/windows-8/256/Programming-Github-icon.png\" width=32 /> Сохрани файл для __github__. \n",
    "\n",
    "1. Перейди в командной строке в папку, в которой расположен этот нотбук. \n",
    "2. Выполни команду `git add .`\n",
    "3. Выполни команду `git commit -m \"calculus tasks completed\"`\n",
    "4. Выполни команду `git push`"
   ]
  }
 ],
 "metadata": {
  "kernelspec": {
   "display_name": "base",
   "language": "python",
   "name": "python3"
  },
  "language_info": {
   "codemirror_mode": {
    "name": "ipython",
    "version": 3
   },
   "file_extension": ".py",
   "mimetype": "text/x-python",
   "name": "python",
   "nbconvert_exporter": "python",
   "pygments_lexer": "ipython3",
   "version": "3.12.9"
  }
 },
 "nbformat": 4,
 "nbformat_minor": 5
}
