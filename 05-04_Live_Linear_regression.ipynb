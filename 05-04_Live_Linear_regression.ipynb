{
 "cells": [
  {
   "cell_type": "code",
   "execution_count": 1,
   "id": "a46745ad-58e8-47c9-ac28-ceb0ac8dc46a",
   "metadata": {},
   "outputs": [],
   "source": [
    "import numpy as np\n",
    "import pandas as pd\n",
    "import matplotlib.pyplot as plt"
   ]
  },
  {
   "cell_type": "code",
   "execution_count": 2,
   "id": "5165e818-38ad-4874-8375-000af9723992",
   "metadata": {},
   "outputs": [],
   "source": [
    "x = np.array([1, -0.5, 0.5])\n",
    "y = np.array([3, 1.5, 2.5])\n",
    "df = pd.DataFrame({'x':x, 'y':y})"
   ]
  },
  {
   "cell_type": "code",
   "execution_count": 3,
   "id": "65efd1f0-2926-43fc-b1aa-da4de402c805",
   "metadata": {},
   "outputs": [
    {
     "data": {
      "text/html": [
       "<div>\n",
       "<style scoped>\n",
       "    .dataframe tbody tr th:only-of-type {\n",
       "        vertical-align: middle;\n",
       "    }\n",
       "\n",
       "    .dataframe tbody tr th {\n",
       "        vertical-align: top;\n",
       "    }\n",
       "\n",
       "    .dataframe thead th {\n",
       "        text-align: right;\n",
       "    }\n",
       "</style>\n",
       "<table border=\"1\" class=\"dataframe\">\n",
       "  <thead>\n",
       "    <tr style=\"text-align: right;\">\n",
       "      <th></th>\n",
       "      <th>x</th>\n",
       "      <th>y</th>\n",
       "    </tr>\n",
       "  </thead>\n",
       "  <tbody>\n",
       "    <tr>\n",
       "      <th>0</th>\n",
       "      <td>1.0</td>\n",
       "      <td>3.0</td>\n",
       "    </tr>\n",
       "    <tr>\n",
       "      <th>1</th>\n",
       "      <td>-0.5</td>\n",
       "      <td>1.5</td>\n",
       "    </tr>\n",
       "    <tr>\n",
       "      <th>2</th>\n",
       "      <td>0.5</td>\n",
       "      <td>2.5</td>\n",
       "    </tr>\n",
       "  </tbody>\n",
       "</table>\n",
       "</div>"
      ],
      "text/plain": [
       "     x    y\n",
       "0  1.0  3.0\n",
       "1 -0.5  1.5\n",
       "2  0.5  2.5"
      ]
     },
     "execution_count": 3,
     "metadata": {},
     "output_type": "execute_result"
    }
   ],
   "source": [
    "df"
   ]
  },
  {
   "cell_type": "code",
   "execution_count": 4,
   "id": "95e7c2c8-7ed5-45e2-82bd-83a096e876a2",
   "metadata": {},
   "outputs": [],
   "source": [
    "w_init = np.array([3, -2])   # [w0, w1]"
   ]
  },
  {
   "cell_type": "code",
   "execution_count": 2,
   "id": "4042d0e6-7036-4a9a-b767-46ab4a26d7cc",
   "metadata": {},
   "outputs": [],
   "source": [
    "def loss(x, y, w):\n",
    "    y_pred = x*w[1] + w[0]\n",
    "    loss = ((y - y_pred)**2).mean().round(2)\n",
    "    return loss"
   ]
  },
  {
   "cell_type": "code",
   "execution_count": 6,
   "id": "1c19af18-2689-4f08-b0fe-acbfb5dda4c2",
   "metadata": {},
   "outputs": [],
   "source": [
    "def derivative_w0(x, y, w):\n",
    "    y_pred = x*w[1] + w[0]\n",
    "    derivative = (-2*(y - y_pred)).mean()\n",
    "    return derivative"
   ]
  },
  {
   "cell_type": "code",
   "execution_count": 7,
   "id": "0febe374-1cea-4363-9492-26b9bc3adef9",
   "metadata": {},
   "outputs": [],
   "source": [
    "def derivative_w1(x, y, w):\n",
    "    y_pred = x*w[1] + w[0]\n",
    "    derivative = (-2*x*(y - y_pred)).mean()\n",
    "    return derivative"
   ]
  },
  {
   "cell_type": "code",
   "execution_count": 6,
   "id": "e9317add-8b71-4e45-ba30-d304c9506eb5",
   "metadata": {},
   "outputs": [],
   "source": [
    "def gradient_template(x, y, w):\n",
    "    gradient = np.array([derivative_w0(x, y, w), derivative_w1(x, y, w)])"
   ]
  },
  {
   "cell_type": "code",
   "execution_count": 4,
   "id": "bd3e9726-b91d-4ba0-a2b7-aa281f8535d3",
   "metadata": {},
   "outputs": [],
   "source": [
    "def gradient(x, y, w):\n",
    "    y_pred = x*w[1] + w[0]\n",
    "    derivative_w0 = (-2*(y - y_pred)).mean()\n",
    "    derivative_w1 = (-2*x*(y - y_pred)).mean()\n",
    "    gradient = np.array(derivative_w0, derivative_w1)\n",
    "    return gradient"
   ]
  },
  {
   "cell_type": "code",
   "execution_count": 3,
   "id": "b32d1dde-5c8b-4eda-bab4-4440b76957b1",
   "metadata": {},
   "outputs": [],
   "source": [
    "def step(x, y, w, lr):\n",
    "    new_w = w - lr*gradient(x, y, w)\n",
    "    return new_w"
   ]
  },
  {
   "cell_type": "code",
   "execution_count": 24,
   "id": "580861c3-a7ef-4c7e-bc71-6bb2431ceb84",
   "metadata": {},
   "outputs": [
    {
     "name": "stdout",
     "output_type": "stream",
     "text": [
      "w_init: [1.94 0.9 ]\n",
      "gradient: -0.18666666666666668\n",
      "loss: 0.01\n",
      "new_weights: [1.95866667 0.91866667]\n",
      "new_loss: 0.01\n"
     ]
    }
   ],
   "source": [
    "w_init = np.array([1.94, 0.9])   # [w0, w1]\n",
    "print(f\"w_init: {w_init}\")\n",
    "print(f\"gradient: {gradient(x, y, w_init)}\")\n",
    "print(f\"loss: {loss(x, y, w_init)}\")\n",
    "print(f\"new_weights: {step(x, y, w_init, 0.1)}\")\n",
    "new_weights = step(x, y, w_init, 0.1)\n",
    "print(f\"new_loss: {loss(x, y, new_weights)}\")"
   ]
  },
  {
   "cell_type": "code",
   "execution_count": null,
   "id": "699724f3-2292-4a22-a59c-ae44e29deccc",
   "metadata": {},
   "outputs": [],
   "source": [
    "\n",
    "        \n",
    "    \n",
    "    \n",
    "    "
   ]
  },
  {
   "cell_type": "code",
   "execution_count": null,
   "id": "6c978f79-5605-4cc6-94f7-5bdc0fa9e67e",
   "metadata": {},
   "outputs": [],
   "source": []
  }
 ],
 "metadata": {
  "kernelspec": {
   "display_name": "Python 3 (ipykernel)",
   "language": "python",
   "name": "python3"
  },
  "language_info": {
   "codemirror_mode": {
    "name": "ipython",
    "version": 3
   },
   "file_extension": ".py",
   "mimetype": "text/x-python",
   "name": "python",
   "nbconvert_exporter": "python",
   "pygments_lexer": "ipython3",
   "version": "3.12.0"
  }
 },
 "nbformat": 4,
 "nbformat_minor": 5
}
